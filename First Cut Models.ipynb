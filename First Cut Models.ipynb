{
 "cells": [
  {
   "cell_type": "code",
   "execution_count": null,
   "metadata": {},
   "outputs": [],
   "source": []
  },
  {
   "cell_type": "code",
   "execution_count": 7,
   "metadata": {},
   "outputs": [],
   "source": [
    "import numpy as np\n",
    "import pandas as pd\n",
    "import os\n",
    "from sklearn.model_selection import train_test_split\n",
    "from sklearn.linear_model import LogisticRegression\n",
    "from sklearn.metrics import log_loss\n",
    "from sklearn.calibration import CalibratedClassifierCV\n",
    "import pickle \n",
    "from sklearn.model_selection import RandomizedSearchCV, StratifiedKFold\n",
    "from sklearn.model_selection import GridSearchCV\n",
    "from sklearn.tree import DecisionTreeClassifier\n",
    "from sklearn.neighbors import KNeighborsClassifier\n",
    "import matplotlib.pyplot as plt \n",
    "import xgboost as xgb\n",
    "from sklearn.ensemble import RandomForestClassifier\n",
    "from mlxtend.classifier import StackingClassifier\n",
    "from sklearn import model_selection"
   ]
  },
  {
   "cell_type": "code",
   "execution_count": 2,
   "metadata": {},
   "outputs": [],
   "source": [
    "train = pd.read_csv('final_train.csv')\n",
    "test = pd.read_csv('final_test.csv')"
   ]
  },
  {
   "cell_type": "code",
   "execution_count": 8,
   "metadata": {},
   "outputs": [
    {
     "data": {
      "text/html": [
       "<div>\n",
       "<style scoped>\n",
       "    .dataframe tbody tr th:only-of-type {\n",
       "        vertical-align: middle;\n",
       "    }\n",
       "\n",
       "    .dataframe tbody tr th {\n",
       "        vertical-align: top;\n",
       "    }\n",
       "\n",
       "    .dataframe thead th {\n",
       "        text-align: right;\n",
       "    }\n",
       "</style>\n",
       "<table border=\"1\" class=\"dataframe\">\n",
       "  <thead>\n",
       "    <tr style=\"text-align: right;\">\n",
       "      <th></th>\n",
       "      <th>Unnamed: 0</th>\n",
       "      <th>msno</th>\n",
       "      <th>is_churn</th>\n",
       "      <th>city</th>\n",
       "      <th>bd</th>\n",
       "      <th>gender</th>\n",
       "      <th>registered_via</th>\n",
       "      <th>registration_init_time</th>\n",
       "      <th>payment_method_id</th>\n",
       "      <th>payment_plan_days</th>\n",
       "      <th>...</th>\n",
       "      <th>num_75_sum</th>\n",
       "      <th>num_75_mean</th>\n",
       "      <th>num_985_sum</th>\n",
       "      <th>num_985_mean</th>\n",
       "      <th>num_100_sum</th>\n",
       "      <th>num_100_mean</th>\n",
       "      <th>num_unq_sum</th>\n",
       "      <th>num_unq_mean</th>\n",
       "      <th>total_secs_sum</th>\n",
       "      <th>total_secs_mean</th>\n",
       "    </tr>\n",
       "  </thead>\n",
       "  <tbody>\n",
       "    <tr>\n",
       "      <th>0</th>\n",
       "      <td>0</td>\n",
       "      <td>waLDQMmcOu2jLDaV1ddDkgCrB/jl6sD66Xzs0Vqax1Y=</td>\n",
       "      <td>1</td>\n",
       "      <td>18.0</td>\n",
       "      <td>36.0</td>\n",
       "      <td>2.0</td>\n",
       "      <td>9.0</td>\n",
       "      <td>20050406.0</td>\n",
       "      <td>38</td>\n",
       "      <td>30</td>\n",
       "      <td>...</td>\n",
       "      <td>6.0</td>\n",
       "      <td>0.857143</td>\n",
       "      <td>2.0</td>\n",
       "      <td>0.285714</td>\n",
       "      <td>133.0</td>\n",
       "      <td>19.000000</td>\n",
       "      <td>154.0</td>\n",
       "      <td>22.000000</td>\n",
       "      <td>35323.665</td>\n",
       "      <td>5046.237857</td>\n",
       "    </tr>\n",
       "    <tr>\n",
       "      <th>1</th>\n",
       "      <td>1</td>\n",
       "      <td>waLDQMmcOu2jLDaV1ddDkgCrB/jl6sD66Xzs0Vqax1Y=</td>\n",
       "      <td>1</td>\n",
       "      <td>18.0</td>\n",
       "      <td>36.0</td>\n",
       "      <td>2.0</td>\n",
       "      <td>9.0</td>\n",
       "      <td>20050406.0</td>\n",
       "      <td>38</td>\n",
       "      <td>30</td>\n",
       "      <td>...</td>\n",
       "      <td>1.0</td>\n",
       "      <td>0.250000</td>\n",
       "      <td>1.0</td>\n",
       "      <td>0.250000</td>\n",
       "      <td>19.0</td>\n",
       "      <td>4.750000</td>\n",
       "      <td>19.0</td>\n",
       "      <td>4.750000</td>\n",
       "      <td>5595.883</td>\n",
       "      <td>1398.970750</td>\n",
       "    </tr>\n",
       "    <tr>\n",
       "      <th>2</th>\n",
       "      <td>2</td>\n",
       "      <td>waLDQMmcOu2jLDaV1ddDkgCrB/jl6sD66Xzs0Vqax1Y=</td>\n",
       "      <td>1</td>\n",
       "      <td>18.0</td>\n",
       "      <td>36.0</td>\n",
       "      <td>2.0</td>\n",
       "      <td>9.0</td>\n",
       "      <td>20050406.0</td>\n",
       "      <td>38</td>\n",
       "      <td>30</td>\n",
       "      <td>...</td>\n",
       "      <td>1.0</td>\n",
       "      <td>0.333333</td>\n",
       "      <td>1.0</td>\n",
       "      <td>0.333333</td>\n",
       "      <td>33.0</td>\n",
       "      <td>11.000000</td>\n",
       "      <td>42.0</td>\n",
       "      <td>14.000000</td>\n",
       "      <td>8137.030</td>\n",
       "      <td>2712.343333</td>\n",
       "    </tr>\n",
       "    <tr>\n",
       "      <th>3</th>\n",
       "      <td>3</td>\n",
       "      <td>waLDQMmcOu2jLDaV1ddDkgCrB/jl6sD66Xzs0Vqax1Y=</td>\n",
       "      <td>1</td>\n",
       "      <td>18.0</td>\n",
       "      <td>36.0</td>\n",
       "      <td>2.0</td>\n",
       "      <td>9.0</td>\n",
       "      <td>20050406.0</td>\n",
       "      <td>38</td>\n",
       "      <td>30</td>\n",
       "      <td>...</td>\n",
       "      <td>6.0</td>\n",
       "      <td>1.000000</td>\n",
       "      <td>0.0</td>\n",
       "      <td>0.000000</td>\n",
       "      <td>88.0</td>\n",
       "      <td>14.666667</td>\n",
       "      <td>100.0</td>\n",
       "      <td>16.666667</td>\n",
       "      <td>22585.123</td>\n",
       "      <td>3764.187167</td>\n",
       "    </tr>\n",
       "    <tr>\n",
       "      <th>4</th>\n",
       "      <td>4</td>\n",
       "      <td>waLDQMmcOu2jLDaV1ddDkgCrB/jl6sD66Xzs0Vqax1Y=</td>\n",
       "      <td>1</td>\n",
       "      <td>18.0</td>\n",
       "      <td>36.0</td>\n",
       "      <td>2.0</td>\n",
       "      <td>9.0</td>\n",
       "      <td>20050406.0</td>\n",
       "      <td>38</td>\n",
       "      <td>30</td>\n",
       "      <td>...</td>\n",
       "      <td>5.0</td>\n",
       "      <td>0.833333</td>\n",
       "      <td>7.0</td>\n",
       "      <td>1.166667</td>\n",
       "      <td>136.0</td>\n",
       "      <td>22.666667</td>\n",
       "      <td>147.0</td>\n",
       "      <td>24.500000</td>\n",
       "      <td>36410.153</td>\n",
       "      <td>6068.358833</td>\n",
       "    </tr>\n",
       "  </tbody>\n",
       "</table>\n",
       "<p>5 rows × 36 columns</p>\n",
       "</div>"
      ],
      "text/plain": [
       "   Unnamed: 0                                          msno  is_churn  city  \\\n",
       "0           0  waLDQMmcOu2jLDaV1ddDkgCrB/jl6sD66Xzs0Vqax1Y=         1  18.0   \n",
       "1           1  waLDQMmcOu2jLDaV1ddDkgCrB/jl6sD66Xzs0Vqax1Y=         1  18.0   \n",
       "2           2  waLDQMmcOu2jLDaV1ddDkgCrB/jl6sD66Xzs0Vqax1Y=         1  18.0   \n",
       "3           3  waLDQMmcOu2jLDaV1ddDkgCrB/jl6sD66Xzs0Vqax1Y=         1  18.0   \n",
       "4           4  waLDQMmcOu2jLDaV1ddDkgCrB/jl6sD66Xzs0Vqax1Y=         1  18.0   \n",
       "\n",
       "     bd  gender  registered_via  registration_init_time  payment_method_id  \\\n",
       "0  36.0     2.0             9.0              20050406.0                 38   \n",
       "1  36.0     2.0             9.0              20050406.0                 38   \n",
       "2  36.0     2.0             9.0              20050406.0                 38   \n",
       "3  36.0     2.0             9.0              20050406.0                 38   \n",
       "4  36.0     2.0             9.0              20050406.0                 38   \n",
       "\n",
       "   payment_plan_days  ...  num_75_sum  num_75_mean  num_985_sum  num_985_mean  \\\n",
       "0                 30  ...         6.0     0.857143          2.0      0.285714   \n",
       "1                 30  ...         1.0     0.250000          1.0      0.250000   \n",
       "2                 30  ...         1.0     0.333333          1.0      0.333333   \n",
       "3                 30  ...         6.0     1.000000          0.0      0.000000   \n",
       "4                 30  ...         5.0     0.833333          7.0      1.166667   \n",
       "\n",
       "   num_100_sum  num_100_mean  num_unq_sum  num_unq_mean  total_secs_sum  \\\n",
       "0        133.0     19.000000        154.0     22.000000       35323.665   \n",
       "1         19.0      4.750000         19.0      4.750000        5595.883   \n",
       "2         33.0     11.000000         42.0     14.000000        8137.030   \n",
       "3         88.0     14.666667        100.0     16.666667       22585.123   \n",
       "4        136.0     22.666667        147.0     24.500000       36410.153   \n",
       "\n",
       "   total_secs_mean  \n",
       "0      5046.237857  \n",
       "1      1398.970750  \n",
       "2      2712.343333  \n",
       "3      3764.187167  \n",
       "4      6068.358833  \n",
       "\n",
       "[5 rows x 36 columns]"
      ]
     },
     "execution_count": 8,
     "metadata": {},
     "output_type": "execute_result"
    }
   ],
   "source": [
    "train.head()"
   ]
  },
  {
   "cell_type": "code",
   "execution_count": 9,
   "metadata": {},
   "outputs": [],
   "source": [
    "train = train.drop('Unnamed: 0',axis=1)\n",
    "test = test.drop('Unnamed: 0',axis=1)"
   ]
  },
  {
   "cell_type": "code",
   "execution_count": 10,
   "metadata": {},
   "outputs": [
    {
     "data": {
      "text/html": [
       "<div>\n",
       "<style scoped>\n",
       "    .dataframe tbody tr th:only-of-type {\n",
       "        vertical-align: middle;\n",
       "    }\n",
       "\n",
       "    .dataframe tbody tr th {\n",
       "        vertical-align: top;\n",
       "    }\n",
       "\n",
       "    .dataframe thead th {\n",
       "        text-align: right;\n",
       "    }\n",
       "</style>\n",
       "<table border=\"1\" class=\"dataframe\">\n",
       "  <thead>\n",
       "    <tr style=\"text-align: right;\">\n",
       "      <th></th>\n",
       "      <th>msno</th>\n",
       "      <th>is_churn</th>\n",
       "      <th>city</th>\n",
       "      <th>bd</th>\n",
       "      <th>gender</th>\n",
       "      <th>registered_via</th>\n",
       "      <th>registration_init_time</th>\n",
       "      <th>payment_method_id</th>\n",
       "      <th>payment_plan_days</th>\n",
       "      <th>plan_list_price</th>\n",
       "      <th>...</th>\n",
       "      <th>num_75_sum</th>\n",
       "      <th>num_75_mean</th>\n",
       "      <th>num_985_sum</th>\n",
       "      <th>num_985_mean</th>\n",
       "      <th>num_100_sum</th>\n",
       "      <th>num_100_mean</th>\n",
       "      <th>num_unq_sum</th>\n",
       "      <th>num_unq_mean</th>\n",
       "      <th>total_secs_sum</th>\n",
       "      <th>total_secs_mean</th>\n",
       "    </tr>\n",
       "  </thead>\n",
       "  <tbody>\n",
       "    <tr>\n",
       "      <th>0</th>\n",
       "      <td>waLDQMmcOu2jLDaV1ddDkgCrB/jl6sD66Xzs0Vqax1Y=</td>\n",
       "      <td>1</td>\n",
       "      <td>18.0</td>\n",
       "      <td>36.0</td>\n",
       "      <td>2.0</td>\n",
       "      <td>9.0</td>\n",
       "      <td>20050406.0</td>\n",
       "      <td>38</td>\n",
       "      <td>30</td>\n",
       "      <td>149</td>\n",
       "      <td>...</td>\n",
       "      <td>6.0</td>\n",
       "      <td>0.857143</td>\n",
       "      <td>2.0</td>\n",
       "      <td>0.285714</td>\n",
       "      <td>133.0</td>\n",
       "      <td>19.000000</td>\n",
       "      <td>154.0</td>\n",
       "      <td>22.000000</td>\n",
       "      <td>35323.665</td>\n",
       "      <td>5046.237857</td>\n",
       "    </tr>\n",
       "    <tr>\n",
       "      <th>1</th>\n",
       "      <td>waLDQMmcOu2jLDaV1ddDkgCrB/jl6sD66Xzs0Vqax1Y=</td>\n",
       "      <td>1</td>\n",
       "      <td>18.0</td>\n",
       "      <td>36.0</td>\n",
       "      <td>2.0</td>\n",
       "      <td>9.0</td>\n",
       "      <td>20050406.0</td>\n",
       "      <td>38</td>\n",
       "      <td>30</td>\n",
       "      <td>149</td>\n",
       "      <td>...</td>\n",
       "      <td>1.0</td>\n",
       "      <td>0.250000</td>\n",
       "      <td>1.0</td>\n",
       "      <td>0.250000</td>\n",
       "      <td>19.0</td>\n",
       "      <td>4.750000</td>\n",
       "      <td>19.0</td>\n",
       "      <td>4.750000</td>\n",
       "      <td>5595.883</td>\n",
       "      <td>1398.970750</td>\n",
       "    </tr>\n",
       "    <tr>\n",
       "      <th>2</th>\n",
       "      <td>waLDQMmcOu2jLDaV1ddDkgCrB/jl6sD66Xzs0Vqax1Y=</td>\n",
       "      <td>1</td>\n",
       "      <td>18.0</td>\n",
       "      <td>36.0</td>\n",
       "      <td>2.0</td>\n",
       "      <td>9.0</td>\n",
       "      <td>20050406.0</td>\n",
       "      <td>38</td>\n",
       "      <td>30</td>\n",
       "      <td>149</td>\n",
       "      <td>...</td>\n",
       "      <td>1.0</td>\n",
       "      <td>0.333333</td>\n",
       "      <td>1.0</td>\n",
       "      <td>0.333333</td>\n",
       "      <td>33.0</td>\n",
       "      <td>11.000000</td>\n",
       "      <td>42.0</td>\n",
       "      <td>14.000000</td>\n",
       "      <td>8137.030</td>\n",
       "      <td>2712.343333</td>\n",
       "    </tr>\n",
       "    <tr>\n",
       "      <th>3</th>\n",
       "      <td>waLDQMmcOu2jLDaV1ddDkgCrB/jl6sD66Xzs0Vqax1Y=</td>\n",
       "      <td>1</td>\n",
       "      <td>18.0</td>\n",
       "      <td>36.0</td>\n",
       "      <td>2.0</td>\n",
       "      <td>9.0</td>\n",
       "      <td>20050406.0</td>\n",
       "      <td>38</td>\n",
       "      <td>30</td>\n",
       "      <td>149</td>\n",
       "      <td>...</td>\n",
       "      <td>6.0</td>\n",
       "      <td>1.000000</td>\n",
       "      <td>0.0</td>\n",
       "      <td>0.000000</td>\n",
       "      <td>88.0</td>\n",
       "      <td>14.666667</td>\n",
       "      <td>100.0</td>\n",
       "      <td>16.666667</td>\n",
       "      <td>22585.123</td>\n",
       "      <td>3764.187167</td>\n",
       "    </tr>\n",
       "    <tr>\n",
       "      <th>4</th>\n",
       "      <td>waLDQMmcOu2jLDaV1ddDkgCrB/jl6sD66Xzs0Vqax1Y=</td>\n",
       "      <td>1</td>\n",
       "      <td>18.0</td>\n",
       "      <td>36.0</td>\n",
       "      <td>2.0</td>\n",
       "      <td>9.0</td>\n",
       "      <td>20050406.0</td>\n",
       "      <td>38</td>\n",
       "      <td>30</td>\n",
       "      <td>149</td>\n",
       "      <td>...</td>\n",
       "      <td>5.0</td>\n",
       "      <td>0.833333</td>\n",
       "      <td>7.0</td>\n",
       "      <td>1.166667</td>\n",
       "      <td>136.0</td>\n",
       "      <td>22.666667</td>\n",
       "      <td>147.0</td>\n",
       "      <td>24.500000</td>\n",
       "      <td>36410.153</td>\n",
       "      <td>6068.358833</td>\n",
       "    </tr>\n",
       "  </tbody>\n",
       "</table>\n",
       "<p>5 rows × 35 columns</p>\n",
       "</div>"
      ],
      "text/plain": [
       "                                           msno  is_churn  city    bd  gender  \\\n",
       "0  waLDQMmcOu2jLDaV1ddDkgCrB/jl6sD66Xzs0Vqax1Y=         1  18.0  36.0     2.0   \n",
       "1  waLDQMmcOu2jLDaV1ddDkgCrB/jl6sD66Xzs0Vqax1Y=         1  18.0  36.0     2.0   \n",
       "2  waLDQMmcOu2jLDaV1ddDkgCrB/jl6sD66Xzs0Vqax1Y=         1  18.0  36.0     2.0   \n",
       "3  waLDQMmcOu2jLDaV1ddDkgCrB/jl6sD66Xzs0Vqax1Y=         1  18.0  36.0     2.0   \n",
       "4  waLDQMmcOu2jLDaV1ddDkgCrB/jl6sD66Xzs0Vqax1Y=         1  18.0  36.0     2.0   \n",
       "\n",
       "   registered_via  registration_init_time  payment_method_id  \\\n",
       "0             9.0              20050406.0                 38   \n",
       "1             9.0              20050406.0                 38   \n",
       "2             9.0              20050406.0                 38   \n",
       "3             9.0              20050406.0                 38   \n",
       "4             9.0              20050406.0                 38   \n",
       "\n",
       "   payment_plan_days  plan_list_price  ...  num_75_sum  num_75_mean  \\\n",
       "0                 30              149  ...         6.0     0.857143   \n",
       "1                 30              149  ...         1.0     0.250000   \n",
       "2                 30              149  ...         1.0     0.333333   \n",
       "3                 30              149  ...         6.0     1.000000   \n",
       "4                 30              149  ...         5.0     0.833333   \n",
       "\n",
       "   num_985_sum  num_985_mean  num_100_sum  num_100_mean  num_unq_sum  \\\n",
       "0          2.0      0.285714        133.0     19.000000        154.0   \n",
       "1          1.0      0.250000         19.0      4.750000         19.0   \n",
       "2          1.0      0.333333         33.0     11.000000         42.0   \n",
       "3          0.0      0.000000         88.0     14.666667        100.0   \n",
       "4          7.0      1.166667        136.0     22.666667        147.0   \n",
       "\n",
       "   num_unq_mean  total_secs_sum  total_secs_mean  \n",
       "0     22.000000       35323.665      5046.237857  \n",
       "1      4.750000        5595.883      1398.970750  \n",
       "2     14.000000        8137.030      2712.343333  \n",
       "3     16.666667       22585.123      3764.187167  \n",
       "4     24.500000       36410.153      6068.358833  \n",
       "\n",
       "[5 rows x 35 columns]"
      ]
     },
     "execution_count": 10,
     "metadata": {},
     "output_type": "execute_result"
    }
   ],
   "source": [
    "train.head()"
   ]
  },
  {
   "cell_type": "code",
   "execution_count": 11,
   "metadata": {},
   "outputs": [],
   "source": [
    "cols = [c for c in train.columns if c not in ['is_churn','msno']]"
   ]
  },
  {
   "cell_type": "code",
   "execution_count": 12,
   "metadata": {},
   "outputs": [],
   "source": [
    "X_train,X_cv,Y_train,Y_cv = train_test_split(train[cols],train['is_churn'],test_size=0.3,stratify=train['is_churn'])"
   ]
  },
  {
   "cell_type": "code",
   "execution_count": 13,
   "metadata": {},
   "outputs": [
    {
     "name": "stdout",
     "output_type": "stream",
     "text": [
      "Train data size = (8909443, 33) ,(8909443,)\n",
      "CV data size = (3818333, 33),(3818333,)\n"
     ]
    }
   ],
   "source": [
    "print(f'Train data size = {X_train.shape} ,{Y_train.shape}')\n",
    "print(f'CV data size = {X_cv.shape},{Y_cv.shape}')"
   ]
  },
  {
   "cell_type": "code",
   "execution_count": 14,
   "metadata": {},
   "outputs": [
    {
     "name": "stdout",
     "output_type": "stream",
     "text": [
      "Index(['city', 'bd', 'gender', 'registered_via', 'registration_init_time',\n",
      "       'payment_method_id', 'payment_plan_days', 'plan_list_price',\n",
      "       'actual_amount_paid', 'is_auto_renew', 'transaction_date',\n",
      "       'membership_expire_date', 'is_cancel', 'discount', 'is_discount',\n",
      "       'membership_duration', 'date_min', 'date_max', 'num_25_sum',\n",
      "       'num_25_count', 'num_25_mean', 'num_50_sum', 'num_50_mean',\n",
      "       'num_75_sum', 'num_75_mean', 'num_985_sum', 'num_985_mean',\n",
      "       'num_100_sum', 'num_100_mean', 'num_unq_sum', 'num_unq_mean',\n",
      "       'total_secs_sum', 'total_secs_mean'],\n",
      "      dtype='object')\n"
     ]
    }
   ],
   "source": [
    "print(X_train.columns)"
   ]
  },
  {
   "cell_type": "code",
   "execution_count": 15,
   "metadata": {},
   "outputs": [],
   "source": [
    "def normalize(data):\n",
    "    \n",
    "    df = data.copy()\n",
    "    for feature_name in df.columns:\n",
    "        if feature_name!='gender' and feature_name!='registered_via' and feature_name!='payment_method_id' and feature_name!='is_auto_renew' and feature_name!='is_cancel' and feature_name!='city' and feature_name!='is_discount':\n",
    "            max_val  = df[feature_name].max()\n",
    "            min_val = df[feature_name].min()\n",
    "            df[feature_name] = (data[feature_name]-min_val)/(max_val-min_val)\n",
    "    \n",
    "    return df\n",
    "\n"
   ]
  },
  {
   "cell_type": "code",
   "execution_count": 16,
   "metadata": {},
   "outputs": [],
   "source": [
    "X_train = normalize(X_train)\n",
    "X_cv = normalize(X_cv)"
   ]
  },
  {
   "cell_type": "code",
   "execution_count": 17,
   "metadata": {},
   "outputs": [
    {
     "data": {
      "text/html": [
       "<div>\n",
       "<style scoped>\n",
       "    .dataframe tbody tr th:only-of-type {\n",
       "        vertical-align: middle;\n",
       "    }\n",
       "\n",
       "    .dataframe tbody tr th {\n",
       "        vertical-align: top;\n",
       "    }\n",
       "\n",
       "    .dataframe thead th {\n",
       "        text-align: right;\n",
       "    }\n",
       "</style>\n",
       "<table border=\"1\" class=\"dataframe\">\n",
       "  <thead>\n",
       "    <tr style=\"text-align: right;\">\n",
       "      <th></th>\n",
       "      <th>city</th>\n",
       "      <th>bd</th>\n",
       "      <th>gender</th>\n",
       "      <th>registered_via</th>\n",
       "      <th>registration_init_time</th>\n",
       "      <th>payment_method_id</th>\n",
       "      <th>payment_plan_days</th>\n",
       "      <th>plan_list_price</th>\n",
       "      <th>actual_amount_paid</th>\n",
       "      <th>is_auto_renew</th>\n",
       "      <th>...</th>\n",
       "      <th>num_75_sum</th>\n",
       "      <th>num_75_mean</th>\n",
       "      <th>num_985_sum</th>\n",
       "      <th>num_985_mean</th>\n",
       "      <th>num_100_sum</th>\n",
       "      <th>num_100_mean</th>\n",
       "      <th>num_unq_sum</th>\n",
       "      <th>num_unq_mean</th>\n",
       "      <th>total_secs_sum</th>\n",
       "      <th>total_secs_mean</th>\n",
       "    </tr>\n",
       "  </thead>\n",
       "  <tbody>\n",
       "    <tr>\n",
       "      <th>3723841</th>\n",
       "      <td>1.0</td>\n",
       "      <td>0.609907</td>\n",
       "      <td>0.0</td>\n",
       "      <td>7.0</td>\n",
       "      <td>0.997044</td>\n",
       "      <td>41</td>\n",
       "      <td>0.066667</td>\n",
       "      <td>0.0495</td>\n",
       "      <td>0.0495</td>\n",
       "      <td>1</td>\n",
       "      <td>...</td>\n",
       "      <td>0.003249</td>\n",
       "      <td>0.001277</td>\n",
       "      <td>0.002608</td>\n",
       "      <td>0.003715</td>\n",
       "      <td>0.009293</td>\n",
       "      <td>0.007313</td>\n",
       "      <td>0.021259</td>\n",
       "      <td>0.009179</td>\n",
       "      <td>0.923077</td>\n",
       "      <td>0.837209</td>\n",
       "    </tr>\n",
       "    <tr>\n",
       "      <th>9265701</th>\n",
       "      <td>13.0</td>\n",
       "      <td>0.616680</td>\n",
       "      <td>2.0</td>\n",
       "      <td>9.0</td>\n",
       "      <td>0.995076</td>\n",
       "      <td>37</td>\n",
       "      <td>0.066667</td>\n",
       "      <td>0.0745</td>\n",
       "      <td>0.0745</td>\n",
       "      <td>1</td>\n",
       "      <td>...</td>\n",
       "      <td>0.009746</td>\n",
       "      <td>0.002873</td>\n",
       "      <td>0.006282</td>\n",
       "      <td>0.006712</td>\n",
       "      <td>0.010714</td>\n",
       "      <td>0.006323</td>\n",
       "      <td>0.030757</td>\n",
       "      <td>0.009960</td>\n",
       "      <td>0.923077</td>\n",
       "      <td>0.837209</td>\n",
       "    </tr>\n",
       "    <tr>\n",
       "      <th>4655587</th>\n",
       "      <td>1.0</td>\n",
       "      <td>0.609907</td>\n",
       "      <td>0.0</td>\n",
       "      <td>7.0</td>\n",
       "      <td>0.999493</td>\n",
       "      <td>41</td>\n",
       "      <td>0.066667</td>\n",
       "      <td>0.0495</td>\n",
       "      <td>0.0495</td>\n",
       "      <td>1</td>\n",
       "      <td>...</td>\n",
       "      <td>0.000191</td>\n",
       "      <td>0.001052</td>\n",
       "      <td>0.000119</td>\n",
       "      <td>0.002364</td>\n",
       "      <td>0.000160</td>\n",
       "      <td>0.001759</td>\n",
       "      <td>0.000279</td>\n",
       "      <td>0.001689</td>\n",
       "      <td>0.923077</td>\n",
       "      <td>0.837209</td>\n",
       "    </tr>\n",
       "    <tr>\n",
       "      <th>7029502</th>\n",
       "      <td>0.0</td>\n",
       "      <td>0.609907</td>\n",
       "      <td>0.0</td>\n",
       "      <td>0.0</td>\n",
       "      <td>0.000000</td>\n",
       "      <td>41</td>\n",
       "      <td>0.066667</td>\n",
       "      <td>0.0745</td>\n",
       "      <td>0.0745</td>\n",
       "      <td>1</td>\n",
       "      <td>...</td>\n",
       "      <td>0.000000</td>\n",
       "      <td>0.000000</td>\n",
       "      <td>0.000000</td>\n",
       "      <td>0.000000</td>\n",
       "      <td>0.000000</td>\n",
       "      <td>0.000000</td>\n",
       "      <td>0.000000</td>\n",
       "      <td>0.000000</td>\n",
       "      <td>0.923077</td>\n",
       "      <td>0.837209</td>\n",
       "    </tr>\n",
       "    <tr>\n",
       "      <th>64595</th>\n",
       "      <td>15.0</td>\n",
       "      <td>0.615325</td>\n",
       "      <td>1.0</td>\n",
       "      <td>9.0</td>\n",
       "      <td>0.996043</td>\n",
       "      <td>22</td>\n",
       "      <td>0.433333</td>\n",
       "      <td>0.4470</td>\n",
       "      <td>0.4470</td>\n",
       "      <td>0</td>\n",
       "      <td>...</td>\n",
       "      <td>0.017199</td>\n",
       "      <td>0.003640</td>\n",
       "      <td>0.012090</td>\n",
       "      <td>0.009274</td>\n",
       "      <td>0.054558</td>\n",
       "      <td>0.023119</td>\n",
       "      <td>0.082605</td>\n",
       "      <td>0.019205</td>\n",
       "      <td>0.923077</td>\n",
       "      <td>0.837209</td>\n",
       "    </tr>\n",
       "  </tbody>\n",
       "</table>\n",
       "<p>5 rows × 33 columns</p>\n",
       "</div>"
      ],
      "text/plain": [
       "         city        bd  gender  registered_via  registration_init_time  \\\n",
       "3723841   1.0  0.609907     0.0             7.0                0.997044   \n",
       "9265701  13.0  0.616680     2.0             9.0                0.995076   \n",
       "4655587   1.0  0.609907     0.0             7.0                0.999493   \n",
       "7029502   0.0  0.609907     0.0             0.0                0.000000   \n",
       "64595    15.0  0.615325     1.0             9.0                0.996043   \n",
       "\n",
       "         payment_method_id  payment_plan_days  plan_list_price  \\\n",
       "3723841                 41           0.066667           0.0495   \n",
       "9265701                 37           0.066667           0.0745   \n",
       "4655587                 41           0.066667           0.0495   \n",
       "7029502                 41           0.066667           0.0745   \n",
       "64595                   22           0.433333           0.4470   \n",
       "\n",
       "         actual_amount_paid  is_auto_renew  ...  num_75_sum  num_75_mean  \\\n",
       "3723841              0.0495              1  ...    0.003249     0.001277   \n",
       "9265701              0.0745              1  ...    0.009746     0.002873   \n",
       "4655587              0.0495              1  ...    0.000191     0.001052   \n",
       "7029502              0.0745              1  ...    0.000000     0.000000   \n",
       "64595                0.4470              0  ...    0.017199     0.003640   \n",
       "\n",
       "         num_985_sum  num_985_mean  num_100_sum  num_100_mean  num_unq_sum  \\\n",
       "3723841     0.002608      0.003715     0.009293      0.007313     0.021259   \n",
       "9265701     0.006282      0.006712     0.010714      0.006323     0.030757   \n",
       "4655587     0.000119      0.002364     0.000160      0.001759     0.000279   \n",
       "7029502     0.000000      0.000000     0.000000      0.000000     0.000000   \n",
       "64595       0.012090      0.009274     0.054558      0.023119     0.082605   \n",
       "\n",
       "         num_unq_mean  total_secs_sum  total_secs_mean  \n",
       "3723841      0.009179        0.923077         0.837209  \n",
       "9265701      0.009960        0.923077         0.837209  \n",
       "4655587      0.001689        0.923077         0.837209  \n",
       "7029502      0.000000        0.923077         0.837209  \n",
       "64595        0.019205        0.923077         0.837209  \n",
       "\n",
       "[5 rows x 33 columns]"
      ]
     },
     "execution_count": 17,
     "metadata": {},
     "output_type": "execute_result"
    }
   ],
   "source": [
    "X_train.head()"
   ]
  },
  {
   "cell_type": "code",
   "execution_count": 18,
   "metadata": {},
   "outputs": [
    {
     "data": {
      "text/html": [
       "<div>\n",
       "<style scoped>\n",
       "    .dataframe tbody tr th:only-of-type {\n",
       "        vertical-align: middle;\n",
       "    }\n",
       "\n",
       "    .dataframe tbody tr th {\n",
       "        vertical-align: top;\n",
       "    }\n",
       "\n",
       "    .dataframe thead th {\n",
       "        text-align: right;\n",
       "    }\n",
       "</style>\n",
       "<table border=\"1\" class=\"dataframe\">\n",
       "  <thead>\n",
       "    <tr style=\"text-align: right;\">\n",
       "      <th></th>\n",
       "      <th>city</th>\n",
       "      <th>bd</th>\n",
       "      <th>gender</th>\n",
       "      <th>registered_via</th>\n",
       "      <th>registration_init_time</th>\n",
       "      <th>payment_method_id</th>\n",
       "      <th>payment_plan_days</th>\n",
       "      <th>plan_list_price</th>\n",
       "      <th>actual_amount_paid</th>\n",
       "      <th>is_auto_renew</th>\n",
       "      <th>...</th>\n",
       "      <th>num_75_sum</th>\n",
       "      <th>num_75_mean</th>\n",
       "      <th>num_985_sum</th>\n",
       "      <th>num_985_mean</th>\n",
       "      <th>num_100_sum</th>\n",
       "      <th>num_100_mean</th>\n",
       "      <th>num_unq_sum</th>\n",
       "      <th>num_unq_mean</th>\n",
       "      <th>total_secs_sum</th>\n",
       "      <th>total_secs_mean</th>\n",
       "    </tr>\n",
       "  </thead>\n",
       "  <tbody>\n",
       "    <tr>\n",
       "      <th>7395976</th>\n",
       "      <td>4.0</td>\n",
       "      <td>0.617647</td>\n",
       "      <td>2.0</td>\n",
       "      <td>9.0</td>\n",
       "      <td>0.995067</td>\n",
       "      <td>34</td>\n",
       "      <td>0.066667</td>\n",
       "      <td>0.0745</td>\n",
       "      <td>0.0745</td>\n",
       "      <td>1</td>\n",
       "      <td>...</td>\n",
       "      <td>0.009087</td>\n",
       "      <td>0.004452</td>\n",
       "      <td>0.004572</td>\n",
       "      <td>0.005831</td>\n",
       "      <td>0.016957</td>\n",
       "      <td>0.011891</td>\n",
       "      <td>0.042162</td>\n",
       "      <td>0.050593</td>\n",
       "      <td>0.923077</td>\n",
       "      <td>0.896552</td>\n",
       "    </tr>\n",
       "    <tr>\n",
       "      <th>2166985</th>\n",
       "      <td>1.0</td>\n",
       "      <td>0.609907</td>\n",
       "      <td>0.0</td>\n",
       "      <td>7.0</td>\n",
       "      <td>0.999504</td>\n",
       "      <td>41</td>\n",
       "      <td>0.066667</td>\n",
       "      <td>0.0745</td>\n",
       "      <td>0.0745</td>\n",
       "      <td>1</td>\n",
       "      <td>...</td>\n",
       "      <td>0.001893</td>\n",
       "      <td>0.001987</td>\n",
       "      <td>0.001112</td>\n",
       "      <td>0.003040</td>\n",
       "      <td>0.006706</td>\n",
       "      <td>0.010077</td>\n",
       "      <td>0.013439</td>\n",
       "      <td>0.034557</td>\n",
       "      <td>0.923077</td>\n",
       "      <td>0.896552</td>\n",
       "    </tr>\n",
       "    <tr>\n",
       "      <th>12545126</th>\n",
       "      <td>1.0</td>\n",
       "      <td>0.609907</td>\n",
       "      <td>0.0</td>\n",
       "      <td>7.0</td>\n",
       "      <td>0.999052</td>\n",
       "      <td>41</td>\n",
       "      <td>0.066667</td>\n",
       "      <td>0.0495</td>\n",
       "      <td>0.0495</td>\n",
       "      <td>1</td>\n",
       "      <td>...</td>\n",
       "      <td>0.009277</td>\n",
       "      <td>0.004869</td>\n",
       "      <td>0.007785</td>\n",
       "      <td>0.010638</td>\n",
       "      <td>0.020753</td>\n",
       "      <td>0.015593</td>\n",
       "      <td>0.045617</td>\n",
       "      <td>0.058649</td>\n",
       "      <td>0.923077</td>\n",
       "      <td>0.896552</td>\n",
       "    </tr>\n",
       "    <tr>\n",
       "      <th>5430943</th>\n",
       "      <td>1.0</td>\n",
       "      <td>0.609907</td>\n",
       "      <td>0.0</td>\n",
       "      <td>7.0</td>\n",
       "      <td>0.997550</td>\n",
       "      <td>41</td>\n",
       "      <td>0.066667</td>\n",
       "      <td>0.0745</td>\n",
       "      <td>0.0745</td>\n",
       "      <td>1</td>\n",
       "      <td>...</td>\n",
       "      <td>0.006437</td>\n",
       "      <td>0.005256</td>\n",
       "      <td>0.002719</td>\n",
       "      <td>0.005779</td>\n",
       "      <td>0.004130</td>\n",
       "      <td>0.004828</td>\n",
       "      <td>0.010218</td>\n",
       "      <td>0.020436</td>\n",
       "      <td>0.923077</td>\n",
       "      <td>0.896552</td>\n",
       "    </tr>\n",
       "    <tr>\n",
       "      <th>9330501</th>\n",
       "      <td>1.0</td>\n",
       "      <td>0.609907</td>\n",
       "      <td>0.0</td>\n",
       "      <td>7.0</td>\n",
       "      <td>0.998041</td>\n",
       "      <td>41</td>\n",
       "      <td>0.066667</td>\n",
       "      <td>0.0745</td>\n",
       "      <td>0.0745</td>\n",
       "      <td>1</td>\n",
       "      <td>...</td>\n",
       "      <td>0.005112</td>\n",
       "      <td>0.002300</td>\n",
       "      <td>0.002595</td>\n",
       "      <td>0.003040</td>\n",
       "      <td>0.005151</td>\n",
       "      <td>0.003317</td>\n",
       "      <td>0.012092</td>\n",
       "      <td>0.013326</td>\n",
       "      <td>0.923077</td>\n",
       "      <td>0.896552</td>\n",
       "    </tr>\n",
       "  </tbody>\n",
       "</table>\n",
       "<p>5 rows × 33 columns</p>\n",
       "</div>"
      ],
      "text/plain": [
       "          city        bd  gender  registered_via  registration_init_time  \\\n",
       "7395976    4.0  0.617647     2.0             9.0                0.995067   \n",
       "2166985    1.0  0.609907     0.0             7.0                0.999504   \n",
       "12545126   1.0  0.609907     0.0             7.0                0.999052   \n",
       "5430943    1.0  0.609907     0.0             7.0                0.997550   \n",
       "9330501    1.0  0.609907     0.0             7.0                0.998041   \n",
       "\n",
       "          payment_method_id  payment_plan_days  plan_list_price  \\\n",
       "7395976                  34           0.066667           0.0745   \n",
       "2166985                  41           0.066667           0.0745   \n",
       "12545126                 41           0.066667           0.0495   \n",
       "5430943                  41           0.066667           0.0745   \n",
       "9330501                  41           0.066667           0.0745   \n",
       "\n",
       "          actual_amount_paid  is_auto_renew  ...  num_75_sum  num_75_mean  \\\n",
       "7395976               0.0745              1  ...    0.009087     0.004452   \n",
       "2166985               0.0745              1  ...    0.001893     0.001987   \n",
       "12545126              0.0495              1  ...    0.009277     0.004869   \n",
       "5430943               0.0745              1  ...    0.006437     0.005256   \n",
       "9330501               0.0745              1  ...    0.005112     0.002300   \n",
       "\n",
       "          num_985_sum  num_985_mean  num_100_sum  num_100_mean  num_unq_sum  \\\n",
       "7395976      0.004572      0.005831     0.016957      0.011891     0.042162   \n",
       "2166985      0.001112      0.003040     0.006706      0.010077     0.013439   \n",
       "12545126     0.007785      0.010638     0.020753      0.015593     0.045617   \n",
       "5430943      0.002719      0.005779     0.004130      0.004828     0.010218   \n",
       "9330501      0.002595      0.003040     0.005151      0.003317     0.012092   \n",
       "\n",
       "          num_unq_mean  total_secs_sum  total_secs_mean  \n",
       "7395976       0.050593        0.923077         0.896552  \n",
       "2166985       0.034557        0.923077         0.896552  \n",
       "12545126      0.058649        0.923077         0.896552  \n",
       "5430943       0.020436        0.923077         0.896552  \n",
       "9330501       0.013326        0.923077         0.896552  \n",
       "\n",
       "[5 rows x 33 columns]"
      ]
     },
     "execution_count": 18,
     "metadata": {},
     "output_type": "execute_result"
    }
   ],
   "source": [
    "X_cv.head()"
   ]
  },
  {
   "cell_type": "code",
   "execution_count": 19,
   "metadata": {},
   "outputs": [
    {
     "data": {
      "text/html": [
       "<div>\n",
       "<style scoped>\n",
       "    .dataframe tbody tr th:only-of-type {\n",
       "        vertical-align: middle;\n",
       "    }\n",
       "\n",
       "    .dataframe tbody tr th {\n",
       "        vertical-align: top;\n",
       "    }\n",
       "\n",
       "    .dataframe thead th {\n",
       "        text-align: right;\n",
       "    }\n",
       "</style>\n",
       "<table border=\"1\" class=\"dataframe\">\n",
       "  <thead>\n",
       "    <tr style=\"text-align: right;\">\n",
       "      <th></th>\n",
       "      <th>msno</th>\n",
       "      <th>is_churn</th>\n",
       "      <th>city</th>\n",
       "      <th>bd</th>\n",
       "      <th>gender</th>\n",
       "      <th>registered_via</th>\n",
       "      <th>registration_init_time</th>\n",
       "      <th>payment_method_id</th>\n",
       "      <th>payment_plan_days</th>\n",
       "      <th>plan_list_price</th>\n",
       "      <th>...</th>\n",
       "      <th>num_75_sum</th>\n",
       "      <th>num_75_mean</th>\n",
       "      <th>num_985_sum</th>\n",
       "      <th>num_985_mean</th>\n",
       "      <th>num_100_sum</th>\n",
       "      <th>num_100_mean</th>\n",
       "      <th>num_unq_sum</th>\n",
       "      <th>num_unq_mean</th>\n",
       "      <th>total_secs_sum</th>\n",
       "      <th>total_secs_mean</th>\n",
       "    </tr>\n",
       "  </thead>\n",
       "  <tbody>\n",
       "    <tr>\n",
       "      <th>0</th>\n",
       "      <td>+++hVY1rZox/33YtvDgmKA2Frg/2qhkz12B9ylCvh8o=</td>\n",
       "      <td>0</td>\n",
       "      <td>1.0</td>\n",
       "      <td>0.0</td>\n",
       "      <td>0.0</td>\n",
       "      <td>7.0</td>\n",
       "      <td>20140608.0</td>\n",
       "      <td>41</td>\n",
       "      <td>30</td>\n",
       "      <td>99</td>\n",
       "      <td>...</td>\n",
       "      <td>30.0</td>\n",
       "      <td>2.500000</td>\n",
       "      <td>80.0</td>\n",
       "      <td>6.666667</td>\n",
       "      <td>264.0</td>\n",
       "      <td>22.000000</td>\n",
       "      <td>307.0</td>\n",
       "      <td>25.583333</td>\n",
       "      <td>89992.430</td>\n",
       "      <td>7499.369167</td>\n",
       "    </tr>\n",
       "    <tr>\n",
       "      <th>1</th>\n",
       "      <td>+++snpr7pmobhLKUgSHTv/mpkqgBT0tQJ0zQj6qKrqc=</td>\n",
       "      <td>0</td>\n",
       "      <td>1.0</td>\n",
       "      <td>0.0</td>\n",
       "      <td>0.0</td>\n",
       "      <td>7.0</td>\n",
       "      <td>20140927.0</td>\n",
       "      <td>41</td>\n",
       "      <td>30</td>\n",
       "      <td>149</td>\n",
       "      <td>...</td>\n",
       "      <td>202.0</td>\n",
       "      <td>2.404762</td>\n",
       "      <td>199.0</td>\n",
       "      <td>2.369048</td>\n",
       "      <td>3464.0</td>\n",
       "      <td>41.238095</td>\n",
       "      <td>3623.0</td>\n",
       "      <td>43.130952</td>\n",
       "      <td>976483.723</td>\n",
       "      <td>11624.806226</td>\n",
       "    </tr>\n",
       "    <tr>\n",
       "      <th>2</th>\n",
       "      <td>++/9R3sX37CjxbY/AaGvbwr3QkwElKBCtSvVzhCBDOk=</td>\n",
       "      <td>0</td>\n",
       "      <td>18.0</td>\n",
       "      <td>21.0</td>\n",
       "      <td>1.0</td>\n",
       "      <td>7.0</td>\n",
       "      <td>20160315.0</td>\n",
       "      <td>41</td>\n",
       "      <td>30</td>\n",
       "      <td>149</td>\n",
       "      <td>...</td>\n",
       "      <td>62.0</td>\n",
       "      <td>1.476190</td>\n",
       "      <td>73.0</td>\n",
       "      <td>1.738095</td>\n",
       "      <td>653.0</td>\n",
       "      <td>15.547619</td>\n",
       "      <td>534.0</td>\n",
       "      <td>12.714286</td>\n",
       "      <td>200355.988</td>\n",
       "      <td>4770.380667</td>\n",
       "    </tr>\n",
       "    <tr>\n",
       "      <th>3</th>\n",
       "      <td>++0/NopttBsaAn6qHZA2AWWrDg7Me7UOMs1vsyo4tSI=</td>\n",
       "      <td>0</td>\n",
       "      <td>1.0</td>\n",
       "      <td>0.0</td>\n",
       "      <td>0.0</td>\n",
       "      <td>7.0</td>\n",
       "      <td>20160320.0</td>\n",
       "      <td>41</td>\n",
       "      <td>30</td>\n",
       "      <td>149</td>\n",
       "      <td>...</td>\n",
       "      <td>24.0</td>\n",
       "      <td>1.411765</td>\n",
       "      <td>25.0</td>\n",
       "      <td>1.470588</td>\n",
       "      <td>134.0</td>\n",
       "      <td>7.882353</td>\n",
       "      <td>279.0</td>\n",
       "      <td>16.411765</td>\n",
       "      <td>43810.515</td>\n",
       "      <td>2577.089118</td>\n",
       "    </tr>\n",
       "    <tr>\n",
       "      <th>4</th>\n",
       "      <td>++0BJXY8tpirgIhJR14LDM1pnaRosjD1mdO1mIKxlJA=</td>\n",
       "      <td>0</td>\n",
       "      <td>1.0</td>\n",
       "      <td>0.0</td>\n",
       "      <td>0.0</td>\n",
       "      <td>9.0</td>\n",
       "      <td>20150807.0</td>\n",
       "      <td>38</td>\n",
       "      <td>30</td>\n",
       "      <td>149</td>\n",
       "      <td>...</td>\n",
       "      <td>18.0</td>\n",
       "      <td>0.642857</td>\n",
       "      <td>15.0</td>\n",
       "      <td>0.535714</td>\n",
       "      <td>970.0</td>\n",
       "      <td>34.642857</td>\n",
       "      <td>1013.0</td>\n",
       "      <td>36.178571</td>\n",
       "      <td>251368.052</td>\n",
       "      <td>8977.430429</td>\n",
       "    </tr>\n",
       "    <tr>\n",
       "      <th>...</th>\n",
       "      <td>...</td>\n",
       "      <td>...</td>\n",
       "      <td>...</td>\n",
       "      <td>...</td>\n",
       "      <td>...</td>\n",
       "      <td>...</td>\n",
       "      <td>...</td>\n",
       "      <td>...</td>\n",
       "      <td>...</td>\n",
       "      <td>...</td>\n",
       "      <td>...</td>\n",
       "      <td>...</td>\n",
       "      <td>...</td>\n",
       "      <td>...</td>\n",
       "      <td>...</td>\n",
       "      <td>...</td>\n",
       "      <td>...</td>\n",
       "      <td>...</td>\n",
       "      <td>...</td>\n",
       "      <td>...</td>\n",
       "      <td>...</td>\n",
       "    </tr>\n",
       "    <tr>\n",
       "      <th>907466</th>\n",
       "      <td>zzxZeMFx2fjfKZigMnJa2w0EmloDbm8+8nTf/o/00GY=</td>\n",
       "      <td>0</td>\n",
       "      <td>4.0</td>\n",
       "      <td>24.0</td>\n",
       "      <td>1.0</td>\n",
       "      <td>7.0</td>\n",
       "      <td>20120306.0</td>\n",
       "      <td>41</td>\n",
       "      <td>30</td>\n",
       "      <td>99</td>\n",
       "      <td>...</td>\n",
       "      <td>72.0</td>\n",
       "      <td>1.200000</td>\n",
       "      <td>82.0</td>\n",
       "      <td>1.366667</td>\n",
       "      <td>3799.0</td>\n",
       "      <td>63.316667</td>\n",
       "      <td>3030.0</td>\n",
       "      <td>50.500000</td>\n",
       "      <td>1004013.303</td>\n",
       "      <td>16733.555050</td>\n",
       "    </tr>\n",
       "    <tr>\n",
       "      <th>907467</th>\n",
       "      <td>zzxi7n5xoTYo9Q3VTygLWvl/rBDcexwaeAry0yK7Q0E=</td>\n",
       "      <td>0</td>\n",
       "      <td>0.0</td>\n",
       "      <td>0.0</td>\n",
       "      <td>0.0</td>\n",
       "      <td>0.0</td>\n",
       "      <td>0.0</td>\n",
       "      <td>41</td>\n",
       "      <td>30</td>\n",
       "      <td>99</td>\n",
       "      <td>...</td>\n",
       "      <td>0.0</td>\n",
       "      <td>0.000000</td>\n",
       "      <td>0.0</td>\n",
       "      <td>0.000000</td>\n",
       "      <td>0.0</td>\n",
       "      <td>0.000000</td>\n",
       "      <td>0.0</td>\n",
       "      <td>0.000000</td>\n",
       "      <td>0.000</td>\n",
       "      <td>0.000000</td>\n",
       "    </tr>\n",
       "    <tr>\n",
       "      <th>907468</th>\n",
       "      <td>zzy7iqSpfcRq7R4hmKKuhI+CJRs79a6pteqEggpiNO0=</td>\n",
       "      <td>0</td>\n",
       "      <td>5.0</td>\n",
       "      <td>31.0</td>\n",
       "      <td>1.0</td>\n",
       "      <td>3.0</td>\n",
       "      <td>20150430.0</td>\n",
       "      <td>36</td>\n",
       "      <td>30</td>\n",
       "      <td>180</td>\n",
       "      <td>...</td>\n",
       "      <td>62.0</td>\n",
       "      <td>3.444444</td>\n",
       "      <td>61.0</td>\n",
       "      <td>3.388889</td>\n",
       "      <td>731.0</td>\n",
       "      <td>40.611111</td>\n",
       "      <td>752.0</td>\n",
       "      <td>41.777778</td>\n",
       "      <td>197050.868</td>\n",
       "      <td>10947.270444</td>\n",
       "    </tr>\n",
       "    <tr>\n",
       "      <th>907469</th>\n",
       "      <td>zzyHq6TK2+cBkeGFUHvh12Z7UxFZiSM7dOOSllSBPDw=</td>\n",
       "      <td>0</td>\n",
       "      <td>9.0</td>\n",
       "      <td>0.0</td>\n",
       "      <td>0.0</td>\n",
       "      <td>7.0</td>\n",
       "      <td>20130515.0</td>\n",
       "      <td>29</td>\n",
       "      <td>30</td>\n",
       "      <td>180</td>\n",
       "      <td>...</td>\n",
       "      <td>50.0</td>\n",
       "      <td>0.793651</td>\n",
       "      <td>76.0</td>\n",
       "      <td>1.206349</td>\n",
       "      <td>3474.0</td>\n",
       "      <td>55.142857</td>\n",
       "      <td>2958.0</td>\n",
       "      <td>46.952381</td>\n",
       "      <td>804498.088</td>\n",
       "      <td>12769.810921</td>\n",
       "    </tr>\n",
       "    <tr>\n",
       "      <th>907470</th>\n",
       "      <td>zzzF1KsGfHH3qI6qiSNSXC35UXmVKMVFdxkp7xmDMc0=</td>\n",
       "      <td>0</td>\n",
       "      <td>4.0</td>\n",
       "      <td>26.0</td>\n",
       "      <td>1.0</td>\n",
       "      <td>3.0</td>\n",
       "      <td>20170129.0</td>\n",
       "      <td>40</td>\n",
       "      <td>30</td>\n",
       "      <td>149</td>\n",
       "      <td>...</td>\n",
       "      <td>0.0</td>\n",
       "      <td>0.000000</td>\n",
       "      <td>3.0</td>\n",
       "      <td>1.000000</td>\n",
       "      <td>48.0</td>\n",
       "      <td>16.000000</td>\n",
       "      <td>54.0</td>\n",
       "      <td>18.000000</td>\n",
       "      <td>11964.141</td>\n",
       "      <td>3988.047000</td>\n",
       "    </tr>\n",
       "  </tbody>\n",
       "</table>\n",
       "<p>907471 rows × 35 columns</p>\n",
       "</div>"
      ],
      "text/plain": [
       "                                                msno  is_churn  city    bd  \\\n",
       "0       +++hVY1rZox/33YtvDgmKA2Frg/2qhkz12B9ylCvh8o=         0   1.0   0.0   \n",
       "1       +++snpr7pmobhLKUgSHTv/mpkqgBT0tQJ0zQj6qKrqc=         0   1.0   0.0   \n",
       "2       ++/9R3sX37CjxbY/AaGvbwr3QkwElKBCtSvVzhCBDOk=         0  18.0  21.0   \n",
       "3       ++0/NopttBsaAn6qHZA2AWWrDg7Me7UOMs1vsyo4tSI=         0   1.0   0.0   \n",
       "4       ++0BJXY8tpirgIhJR14LDM1pnaRosjD1mdO1mIKxlJA=         0   1.0   0.0   \n",
       "...                                              ...       ...   ...   ...   \n",
       "907466  zzxZeMFx2fjfKZigMnJa2w0EmloDbm8+8nTf/o/00GY=         0   4.0  24.0   \n",
       "907467  zzxi7n5xoTYo9Q3VTygLWvl/rBDcexwaeAry0yK7Q0E=         0   0.0   0.0   \n",
       "907468  zzy7iqSpfcRq7R4hmKKuhI+CJRs79a6pteqEggpiNO0=         0   5.0  31.0   \n",
       "907469  zzyHq6TK2+cBkeGFUHvh12Z7UxFZiSM7dOOSllSBPDw=         0   9.0   0.0   \n",
       "907470  zzzF1KsGfHH3qI6qiSNSXC35UXmVKMVFdxkp7xmDMc0=         0   4.0  26.0   \n",
       "\n",
       "        gender  registered_via  registration_init_time  payment_method_id  \\\n",
       "0          0.0             7.0              20140608.0                 41   \n",
       "1          0.0             7.0              20140927.0                 41   \n",
       "2          1.0             7.0              20160315.0                 41   \n",
       "3          0.0             7.0              20160320.0                 41   \n",
       "4          0.0             9.0              20150807.0                 38   \n",
       "...        ...             ...                     ...                ...   \n",
       "907466     1.0             7.0              20120306.0                 41   \n",
       "907467     0.0             0.0                     0.0                 41   \n",
       "907468     1.0             3.0              20150430.0                 36   \n",
       "907469     0.0             7.0              20130515.0                 29   \n",
       "907470     1.0             3.0              20170129.0                 40   \n",
       "\n",
       "        payment_plan_days  plan_list_price  ...  num_75_sum  num_75_mean  \\\n",
       "0                      30               99  ...        30.0     2.500000   \n",
       "1                      30              149  ...       202.0     2.404762   \n",
       "2                      30              149  ...        62.0     1.476190   \n",
       "3                      30              149  ...        24.0     1.411765   \n",
       "4                      30              149  ...        18.0     0.642857   \n",
       "...                   ...              ...  ...         ...          ...   \n",
       "907466                 30               99  ...        72.0     1.200000   \n",
       "907467                 30               99  ...         0.0     0.000000   \n",
       "907468                 30              180  ...        62.0     3.444444   \n",
       "907469                 30              180  ...        50.0     0.793651   \n",
       "907470                 30              149  ...         0.0     0.000000   \n",
       "\n",
       "        num_985_sum  num_985_mean  num_100_sum  num_100_mean  num_unq_sum  \\\n",
       "0              80.0      6.666667        264.0     22.000000        307.0   \n",
       "1             199.0      2.369048       3464.0     41.238095       3623.0   \n",
       "2              73.0      1.738095        653.0     15.547619        534.0   \n",
       "3              25.0      1.470588        134.0      7.882353        279.0   \n",
       "4              15.0      0.535714        970.0     34.642857       1013.0   \n",
       "...             ...           ...          ...           ...          ...   \n",
       "907466         82.0      1.366667       3799.0     63.316667       3030.0   \n",
       "907467          0.0      0.000000          0.0      0.000000          0.0   \n",
       "907468         61.0      3.388889        731.0     40.611111        752.0   \n",
       "907469         76.0      1.206349       3474.0     55.142857       2958.0   \n",
       "907470          3.0      1.000000         48.0     16.000000         54.0   \n",
       "\n",
       "        num_unq_mean  total_secs_sum  total_secs_mean  \n",
       "0          25.583333       89992.430      7499.369167  \n",
       "1          43.130952      976483.723     11624.806226  \n",
       "2          12.714286      200355.988      4770.380667  \n",
       "3          16.411765       43810.515      2577.089118  \n",
       "4          36.178571      251368.052      8977.430429  \n",
       "...              ...             ...              ...  \n",
       "907466     50.500000     1004013.303     16733.555050  \n",
       "907467      0.000000           0.000         0.000000  \n",
       "907468     41.777778      197050.868     10947.270444  \n",
       "907469     46.952381      804498.088     12769.810921  \n",
       "907470     18.000000       11964.141      3988.047000  \n",
       "\n",
       "[907471 rows x 35 columns]"
      ]
     },
     "execution_count": 19,
     "metadata": {},
     "output_type": "execute_result"
    }
   ],
   "source": [
    "test"
   ]
  },
  {
   "cell_type": "markdown",
   "metadata": {},
   "source": [
    "## Logistic Regression "
   ]
  },
  {
   "cell_type": "code",
   "execution_count": 32,
   "metadata": {},
   "outputs": [
    {
     "name": "stderr",
     "output_type": "stream",
     "text": [
      "C:\\Users\\Admin\\miniconda3\\envs\\tensorflow\\lib\\site-packages\\sklearn\\linear_model\\_logistic.py:764: ConvergenceWarning: lbfgs failed to converge (status=2):\n",
      "ABNORMAL_TERMINATION_IN_LNSRCH.\n",
      "\n",
      "Increase the number of iterations (max_iter) or scale the data as shown in:\n",
      "    https://scikit-learn.org/stable/modules/preprocessing.html\n",
      "Please also refer to the documentation for alternative solver options:\n",
      "    https://scikit-learn.org/stable/modules/linear_model.html#logistic-regression\n",
      "  extra_warning_msg=_LOGISTIC_SOLVER_CONVERGENCE_MSG)\n"
     ]
    },
    {
     "name": "stdout",
     "output_type": "stream",
     "text": [
      "Done for 0.001\n"
     ]
    },
    {
     "name": "stderr",
     "output_type": "stream",
     "text": [
      "C:\\Users\\Admin\\miniconda3\\envs\\tensorflow\\lib\\site-packages\\sklearn\\linear_model\\_logistic.py:764: ConvergenceWarning: lbfgs failed to converge (status=2):\n",
      "ABNORMAL_TERMINATION_IN_LNSRCH.\n",
      "\n",
      "Increase the number of iterations (max_iter) or scale the data as shown in:\n",
      "    https://scikit-learn.org/stable/modules/preprocessing.html\n",
      "Please also refer to the documentation for alternative solver options:\n",
      "    https://scikit-learn.org/stable/modules/linear_model.html#logistic-regression\n",
      "  extra_warning_msg=_LOGISTIC_SOLVER_CONVERGENCE_MSG)\n"
     ]
    },
    {
     "name": "stdout",
     "output_type": "stream",
     "text": [
      "Done for 0.01\n"
     ]
    },
    {
     "name": "stderr",
     "output_type": "stream",
     "text": [
      "C:\\Users\\Admin\\miniconda3\\envs\\tensorflow\\lib\\site-packages\\sklearn\\linear_model\\_logistic.py:764: ConvergenceWarning: lbfgs failed to converge (status=2):\n",
      "ABNORMAL_TERMINATION_IN_LNSRCH.\n",
      "\n",
      "Increase the number of iterations (max_iter) or scale the data as shown in:\n",
      "    https://scikit-learn.org/stable/modules/preprocessing.html\n",
      "Please also refer to the documentation for alternative solver options:\n",
      "    https://scikit-learn.org/stable/modules/linear_model.html#logistic-regression\n",
      "  extra_warning_msg=_LOGISTIC_SOLVER_CONVERGENCE_MSG)\n"
     ]
    },
    {
     "name": "stdout",
     "output_type": "stream",
     "text": [
      "Done for 0.1\n"
     ]
    },
    {
     "name": "stderr",
     "output_type": "stream",
     "text": [
      "C:\\Users\\Admin\\miniconda3\\envs\\tensorflow\\lib\\site-packages\\sklearn\\linear_model\\_logistic.py:764: ConvergenceWarning: lbfgs failed to converge (status=2):\n",
      "ABNORMAL_TERMINATION_IN_LNSRCH.\n",
      "\n",
      "Increase the number of iterations (max_iter) or scale the data as shown in:\n",
      "    https://scikit-learn.org/stable/modules/preprocessing.html\n",
      "Please also refer to the documentation for alternative solver options:\n",
      "    https://scikit-learn.org/stable/modules/linear_model.html#logistic-regression\n",
      "  extra_warning_msg=_LOGISTIC_SOLVER_CONVERGENCE_MSG)\n"
     ]
    },
    {
     "name": "stdout",
     "output_type": "stream",
     "text": [
      "Done for 1\n"
     ]
    },
    {
     "name": "stderr",
     "output_type": "stream",
     "text": [
      "C:\\Users\\Admin\\miniconda3\\envs\\tensorflow\\lib\\site-packages\\sklearn\\linear_model\\_logistic.py:764: ConvergenceWarning: lbfgs failed to converge (status=2):\n",
      "ABNORMAL_TERMINATION_IN_LNSRCH.\n",
      "\n",
      "Increase the number of iterations (max_iter) or scale the data as shown in:\n",
      "    https://scikit-learn.org/stable/modules/preprocessing.html\n",
      "Please also refer to the documentation for alternative solver options:\n",
      "    https://scikit-learn.org/stable/modules/linear_model.html#logistic-regression\n",
      "  extra_warning_msg=_LOGISTIC_SOLVER_CONVERGENCE_MSG)\n"
     ]
    },
    {
     "name": "stdout",
     "output_type": "stream",
     "text": [
      "Done for 10\n"
     ]
    },
    {
     "name": "stderr",
     "output_type": "stream",
     "text": [
      "C:\\Users\\Admin\\miniconda3\\envs\\tensorflow\\lib\\site-packages\\sklearn\\linear_model\\_logistic.py:764: ConvergenceWarning: lbfgs failed to converge (status=2):\n",
      "ABNORMAL_TERMINATION_IN_LNSRCH.\n",
      "\n",
      "Increase the number of iterations (max_iter) or scale the data as shown in:\n",
      "    https://scikit-learn.org/stable/modules/preprocessing.html\n",
      "Please also refer to the documentation for alternative solver options:\n",
      "    https://scikit-learn.org/stable/modules/linear_model.html#logistic-regression\n",
      "  extra_warning_msg=_LOGISTIC_SOLVER_CONVERGENCE_MSG)\n"
     ]
    },
    {
     "name": "stdout",
     "output_type": "stream",
     "text": [
      "Done for 100\n",
      "log_loss for c =  0.001 is 0.6931471805599467\n",
      "log_loss for c =  0.01 is 0.6931471805599467\n",
      "log_loss for c =  0.1 is 0.6931471805599467\n",
      "log_loss for c =  1 is 0.6931471805599467\n",
      "log_loss for c =  10 is 0.6931471805599467\n",
      "log_loss for c =  100 is 0.6931471805599467\n",
      "Wall time: 7min 16s\n"
     ]
    }
   ],
   "source": [
    "%%time \n",
    "alpha = [10 ** x for x in range(-3, 3)]\n",
    "cv_log_error_array=[]\n",
    "for i in alpha:\n",
    "    logisticR=LogisticRegression(C=i)\n",
    "    logisticR.fit(X_train,Y_train)\n",
    "    predict_y = logisticR.predict_proba(X_cv)\n",
    "    cv_log_error_array.append(log_loss(Y_cv, predict_y, labels=logisticR.classes_, eps=1e-15))\n",
    "    print(f'Done for {i}')\n",
    "    \n",
    "for i in range(len(cv_log_error_array)):\n",
    "    print ('log_loss for c = ',alpha[i],'is',cv_log_error_array[i])\n",
    "\n",
    "best_alpha = np.argmin(cv_log_error_array)\n",
    "    \n"
   ]
  },
  {
   "cell_type": "code",
   "execution_count": 35,
   "metadata": {},
   "outputs": [
    {
     "name": "stdout",
     "output_type": "stream",
     "text": [
      "log loss for train data 0.6931585641334908\n",
      "log loss for cv data 0.6931589340341807\n"
     ]
    }
   ],
   "source": [
    "BestlogisticR =LogisticRegression(penalty='l2',C=alpha[best_alpha],class_weight='balanced')\n",
    "BestlogisticR.fit(X_train,Y_train)\n",
    "\n",
    "predict_y = BestlogisticR.predict_proba(X_train)\n",
    "print ('log loss for train data',log_loss(Y_train, predict_y, labels=logisticR.classes_, eps=1e-15))\n",
    "predict_y = BestlogisticR.predict_proba(X_cv)\n",
    "print ('log loss for cv data',log_loss(Y_cv, predict_y, labels=logisticR.classes_, eps=1e-15))"
   ]
  },
  {
   "cell_type": "code",
   "execution_count": 39,
   "metadata": {},
   "outputs": [],
   "source": [
    "pickle.dump(BestlogisticR,open('Models/Logisticr.sav','wb'))"
   ]
  },
  {
   "cell_type": "markdown",
   "metadata": {},
   "source": [
    "## Decision Tree \n",
    "\n",
    "\n",
    "###### Getting log loss as 0.185 after using this on test "
   ]
  },
  {
   "cell_type": "code",
   "execution_count": 42,
   "metadata": {},
   "outputs": [
    {
     "name": "stdout",
     "output_type": "stream",
     "text": [
      "Wall time: 0 ns\n"
     ]
    },
    {
     "data": {
      "text/plain": [
       "GridSearchCV(cv=3, estimator=DecisionTreeClassifier(),\n",
       "             param_grid={'max_depth': [1, 5, 10, 50],\n",
       "                         'min_samples_split': [5, 10, 100, 500]},\n",
       "             return_train_score=True, scoring='roc_auc')"
      ]
     },
     "execution_count": 42,
     "metadata": {},
     "output_type": "execute_result"
    }
   ],
   "source": [
    "%time \n",
    "classifier = DecisionTreeClassifier()\n",
    "parameters = {'min_samples_split': [5, 10, 100, 500],'max_depth':[1, 5, 10, 50] }\n",
    "clf = GridSearchCV(classifier,param_grid = parameters, cv=3, scoring='roc_auc', return_train_score=True)\n",
    "clf.fit(X_train, Y_train)"
   ]
  },
  {
   "cell_type": "code",
   "execution_count": 45,
   "metadata": {},
   "outputs": [
    {
     "data": {
      "text/plain": [
       "DecisionTreeClassifier(max_depth=50, min_samples_split=500)"
      ]
     },
     "execution_count": 45,
     "metadata": {},
     "output_type": "execute_result"
    }
   ],
   "source": [
    "clf.best_estimator_"
   ]
  },
  {
   "cell_type": "code",
   "execution_count": 52,
   "metadata": {},
   "outputs": [],
   "source": [
    "def normalize(data):\n",
    "    \n",
    "    df = data.copy()\n",
    "    for feature_name in df.columns:\n",
    "        max_val  = df[feature_name].max()\n",
    "        min_val = df[feature_name].min()\n",
    "        df[feature_name] = (data[feature_name]-min_val)/(max_val-min_val)\n",
    "    \n",
    "    return df\n",
    "\n",
    "X_train = normalize(X_train)\n",
    "X_cv = normalize(X_cv)\n",
    "    \n",
    "    "
   ]
  },
  {
   "cell_type": "code",
   "execution_count": 14,
   "metadata": {},
   "outputs": [
    {
     "name": "stdout",
     "output_type": "stream",
     "text": [
      "Wall time: 17min 47s\n"
     ]
    },
    {
     "data": {
      "text/plain": [
       "DecisionTreeClassifier(max_depth=50, min_samples_split=500)"
      ]
     },
     "execution_count": 14,
     "metadata": {},
     "output_type": "execute_result"
    }
   ],
   "source": [
    "%%time \n",
    "bestClassifier = DecisionTreeClassifier(max_depth=50,min_samples_split=500)\n",
    "bestClassifier.fit(X_train,Y_train)"
   ]
  },
  {
   "cell_type": "code",
   "execution_count": 16,
   "metadata": {},
   "outputs": [
    {
     "name": "stdout",
     "output_type": "stream",
     "text": [
      "log loss for train data 0.06501904431136293\n",
      "log loss for cv data 0.13169859917851537\n"
     ]
    }
   ],
   "source": [
    "predict_y = bestClassifier.predict_proba(X_train)\n",
    "print ('log loss for train data',log_loss(Y_train, predict_y))\n",
    "predict_y = bestClassifier.predict_proba(X_cv)\n",
    "print ('log loss for cv data',log_loss(Y_cv, predict_y))\n"
   ]
  },
  {
   "cell_type": "code",
   "execution_count": 17,
   "metadata": {},
   "outputs": [],
   "source": [
    "pickle.dump(bestClassifier,open('Models/DecisionTree.sav','wb'))"
   ]
  },
  {
   "cell_type": "code",
   "execution_count": 35,
   "metadata": {},
   "outputs": [],
   "source": [
    "a = normalize(test[cols])"
   ]
  },
  {
   "cell_type": "code",
   "execution_count": 36,
   "metadata": {},
   "outputs": [],
   "source": [
    "Y_test_pred = bestClassifier.predict_proba(a)\n",
    "Y_test_pred = Y_test_pred.clip(0.05,0.95)\n",
    "test['is_churn'] = Y_test_pred\n",
    "test[['msno','is_churn']].to_csv('trial_submission',index=False)"
   ]
  },
  {
   "cell_type": "code",
   "execution_count": 39,
   "metadata": {},
   "outputs": [],
   "source": [
    "test[['msno','is_churn']].to_csv('trial_submission.csv',index=False)"
   ]
  },
  {
   "cell_type": "code",
   "execution_count": 40,
   "metadata": {},
   "outputs": [
    {
     "data": {
      "text/html": [
       "<div>\n",
       "<style scoped>\n",
       "    .dataframe tbody tr th:only-of-type {\n",
       "        vertical-align: middle;\n",
       "    }\n",
       "\n",
       "    .dataframe tbody tr th {\n",
       "        vertical-align: top;\n",
       "    }\n",
       "\n",
       "    .dataframe thead th {\n",
       "        text-align: right;\n",
       "    }\n",
       "</style>\n",
       "<table border=\"1\" class=\"dataframe\">\n",
       "  <thead>\n",
       "    <tr style=\"text-align: right;\">\n",
       "      <th></th>\n",
       "      <th>msno</th>\n",
       "      <th>is_churn</th>\n",
       "    </tr>\n",
       "  </thead>\n",
       "  <tbody>\n",
       "    <tr>\n",
       "      <th>0</th>\n",
       "      <td>+++hVY1rZox/33YtvDgmKA2Frg/2qhkz12B9ylCvh8o=</td>\n",
       "      <td>0.050000</td>\n",
       "    </tr>\n",
       "    <tr>\n",
       "      <th>1</th>\n",
       "      <td>+++snpr7pmobhLKUgSHTv/mpkqgBT0tQJ0zQj6qKrqc=</td>\n",
       "      <td>0.050000</td>\n",
       "    </tr>\n",
       "    <tr>\n",
       "      <th>2</th>\n",
       "      <td>++/9R3sX37CjxbY/AaGvbwr3QkwElKBCtSvVzhCBDOk=</td>\n",
       "      <td>0.050000</td>\n",
       "    </tr>\n",
       "    <tr>\n",
       "      <th>3</th>\n",
       "      <td>++0/NopttBsaAn6qHZA2AWWrDg7Me7UOMs1vsyo4tSI=</td>\n",
       "      <td>0.050000</td>\n",
       "    </tr>\n",
       "    <tr>\n",
       "      <th>4</th>\n",
       "      <td>++0BJXY8tpirgIhJR14LDM1pnaRosjD1mdO1mIKxlJA=</td>\n",
       "      <td>0.494845</td>\n",
       "    </tr>\n",
       "  </tbody>\n",
       "</table>\n",
       "</div>"
      ],
      "text/plain": [
       "                                           msno  is_churn\n",
       "0  +++hVY1rZox/33YtvDgmKA2Frg/2qhkz12B9ylCvh8o=  0.050000\n",
       "1  +++snpr7pmobhLKUgSHTv/mpkqgBT0tQJ0zQj6qKrqc=  0.050000\n",
       "2  ++/9R3sX37CjxbY/AaGvbwr3QkwElKBCtSvVzhCBDOk=  0.050000\n",
       "3  ++0/NopttBsaAn6qHZA2AWWrDg7Me7UOMs1vsyo4tSI=  0.050000\n",
       "4  ++0BJXY8tpirgIhJR14LDM1pnaRosjD1mdO1mIKxlJA=  0.494845"
      ]
     },
     "execution_count": 40,
     "metadata": {},
     "output_type": "execute_result"
    }
   ],
   "source": [
    "\n",
    "\n",
    "a = pd.read_csv('trial_submission.csv')\n",
    "a.head()"
   ]
  },
  {
   "cell_type": "code",
   "execution_count": null,
   "metadata": {},
   "outputs": [],
   "source": []
  },
  {
   "cell_type": "markdown",
   "metadata": {},
   "source": [
    "\n",
    "## XGBoost \n",
    "\n",
    "###### I am getting log loss as 0.184 using this on test "
   ]
  },
  {
   "cell_type": "code",
   "execution_count": 16,
   "metadata": {},
   "outputs": [],
   "source": [
    "from sklearn.metrics import log_loss"
   ]
  },
  {
   "cell_type": "code",
   "execution_count": 17,
   "metadata": {},
   "outputs": [],
   "source": [
    "dtrain = xgb.DMatrix(X_train,label=Y_train)\n",
    "dcv = xgb.DMatrix(X_cv,Y_cv)"
   ]
  },
  {
   "cell_type": "code",
   "execution_count": 26,
   "metadata": {},
   "outputs": [
    {
     "name": "stdout",
     "output_type": "stream",
     "text": [
      "[0]\tCV_DATA-logloss:0.45887\n",
      "Will train until CV_DATA-logloss hasn't improved in 10 rounds.\n",
      "[1]\tCV_DATA-logloss:0.32347\n",
      "[2]\tCV_DATA-logloss:0.24159\n",
      "[3]\tCV_DATA-logloss:0.18944\n",
      "[4]\tCV_DATA-logloss:0.15406\n",
      "[5]\tCV_DATA-logloss:0.13143\n",
      "[6]\tCV_DATA-logloss:0.11568\n",
      "[7]\tCV_DATA-logloss:0.10503\n",
      "[8]\tCV_DATA-logloss:0.09712\n",
      "[9]\tCV_DATA-logloss:0.09163\n",
      "Wall time: 1min 39s\n"
     ]
    }
   ],
   "source": [
    "%%time \n",
    "params = {\n",
    "        \n",
    "        'eta':0.3,\n",
    "        'min_child_weight':1,\n",
    "        'gamma': 0.4,\n",
    "        'subsample': 1,\n",
    "        'max_depth':6,\n",
    "        'eval_metric':'logloss',\n",
    "        'tree_method':'exact'\n",
    "        }\n",
    "\n",
    "\n",
    "xgb_model = xgb.train(\n",
    "    \n",
    "    params,\n",
    "    dtrain,\n",
    "    evals = [(dcv,\"CV_DATA\")],\n",
    "    early_stopping_rounds = 10\n",
    "\n",
    ")\n",
    "\n"
   ]
  },
  {
   "cell_type": "code",
   "execution_count": 19,
   "metadata": {},
   "outputs": [],
   "source": [
    "y_pred_test = xgb_model.predict(xgb.DMatrix(test[cols]))"
   ]
  },
  {
   "cell_type": "code",
   "execution_count": null,
   "metadata": {},
   "outputs": [],
   "source": [
    "y_pred_test = y_pred_test.clip(0.01,0.99)\n",
    "test['is_churn']= y_pred_test\n",
    "test[['msno','is_churn']].to_csv('submissionx.csv',index=False)"
   ]
  },
  {
   "cell_type": "code",
   "execution_count": 24,
   "metadata": {},
   "outputs": [],
   "source": [
    "import shap "
   ]
  },
  {
   "cell_type": "code",
   "execution_count": 25,
   "metadata": {},
   "outputs": [
    {
     "data": {
      "image/png": "[encoded data removed]",
      "text/plain": [
       "<Figure size 576x684 with 1 Axes>"
      ]
     },
     "metadata": {
      "needs_background": "light"
     },
     "output_type": "display_data"
    }
   ],
   "source": [
    "explainer = shap.TreeExplainer(xgb_model)\n",
    "shap_values = explainer.shap_values(X_cv)\n",
    "shap.summary_plot(shap_values, X_cv, plot_type=\"bar\")"
   ]
  },
  {
   "cell_type": "code",
   "execution_count": null,
   "metadata": {},
   "outputs": [],
   "source": [
    "%%time \n",
    "xgm = xgb.XGBClassifier()\n",
    "params = {\n",
    "        'min_child_weight': [1, 5, 10],\n",
    "        'gamma': [0.5, 1, 1.5, 2, 5],\n",
    "        'subsample': [0.6, 0.8, 1.0],\n",
    "        'colsample_bytree': [0.6, 0.8, 1.0],\n",
    "        'max_depth': [3, 4, 5],\n",
    "        'tree_method':'exact'\n",
    "        }\n",
    "clf = RandomizedSearchCV(xgm,params,cv=5,n_jobs=1,n_iter=100)\n",
    "clf.fit(X_train,Y_train)\n",
    "\n"
   ]
  },
  {
   "cell_type": "code",
   "execution_count": 35,
   "metadata": {},
   "outputs": [],
   "source": [
    "best_params = clf.best_params_\n",
    "best_score = clf.best_score_"
   ]
  },
  {
   "cell_type": "code",
   "execution_count": 34,
   "metadata": {},
   "outputs": [
    {
     "data": {
      "text/plain": [
       "{'tree_method': 't',\n",
       " 'subsample': 0.6,\n",
       " 'min_child_weight': 10,\n",
       " 'max_depth': 3,\n",
       " 'gamma': 1.5,\n",
       " 'colsample_bytree': 0.8}"
      ]
     },
     "execution_count": 34,
     "metadata": {},
     "output_type": "execute_result"
    }
   ],
   "source": [
    "best_params"
   ]
  },
  {
   "cell_type": "code",
   "execution_count": 40,
   "metadata": {},
   "outputs": [],
   "source": [
    "best_xgm_model = xgb.XGBClassifier(tree_method ='exact',subsample=0.6,\n",
    " min_child_weight=10,\n",
    " max_depth= 3,\n",
    " gamma= 1.5,\n",
    " colsample_bytree= 0.8)"
   ]
  },
  {
   "cell_type": "code",
   "execution_count": 42,
   "metadata": {},
   "outputs": [
    {
     "name": "stdout",
     "output_type": "stream",
     "text": [
      "Wall time: 10min 20s\n"
     ]
    },
    {
     "data": {
      "text/plain": [
       "XGBClassifier(base_score=0.5, booster='gbtree', colsample_bylevel=1,\n",
       "              colsample_bynode=1, colsample_bytree=0.8, gamma=1.5, gpu_id=-1,\n",
       "              importance_type='gain', interaction_constraints='',\n",
       "              learning_rate=0.300000012, max_delta_step=0, max_depth=3,\n",
       "              min_child_weight=10, missing=nan, monotone_constraints='()',\n",
       "              n_estimators=100, n_jobs=0, num_parallel_tree=1, random_state=0,\n",
       "              reg_alpha=0, reg_lambda=1, scale_pos_weight=1, subsample=0.6,\n",
       "              tree_method='exact', validate_parameters=1, verbosity=None)"
      ]
     },
     "execution_count": 42,
     "metadata": {},
     "output_type": "execute_result"
    }
   ],
   "source": [
    "%%time \n",
    "best_xgm_model.fit(X_train,Y_train)"
   ]
  },
  {
   "cell_type": "code",
   "execution_count": 43,
   "metadata": {},
   "outputs": [
    {
     "data": {
      "text/plain": [
       "1.2027625035475906"
      ]
     },
     "execution_count": 43,
     "metadata": {},
     "output_type": "execute_result"
    }
   ],
   "source": [
    "y_pred_test = best_xgm_model.predict(X_cv)\n",
    "log_loss(Y_cv,y_pred_test)"
   ]
  },
  {
   "cell_type": "code",
   "execution_count": null,
   "metadata": {},
   "outputs": [],
   "source": []
  },
  {
   "cell_type": "markdown",
   "metadata": {},
   "source": [
    "### LightBGM "
   ]
  },
  {
   "cell_type": "code",
   "execution_count": 4,
   "metadata": {},
   "outputs": [],
   "source": [
    "import lightgbm as gbm "
   ]
  },
  {
   "cell_type": "code",
   "execution_count": 22,
   "metadata": {},
   "outputs": [],
   "source": [
    "model = gbm.LGBMClassifier()"
   ]
  },
  {
   "cell_type": "code",
   "execution_count": 24,
   "metadata": {},
   "outputs": [
    {
     "data": {
      "text/plain": [
       "LGBMClassifier()"
      ]
     },
     "execution_count": 24,
     "metadata": {},
     "output_type": "execute_result"
    }
   ],
   "source": [
    "model.fit(X_train,Y_train)"
   ]
  },
  {
   "cell_type": "code",
   "execution_count": 25,
   "metadata": {},
   "outputs": [
    {
     "data": {
      "text/plain": [
       "0.1035937523314645"
      ]
     },
     "execution_count": 25,
     "metadata": {},
     "output_type": "execute_result"
    }
   ],
   "source": [
    "y_pred_cv = model.predict_proba(X_cv)\n",
    "log_loss(Y_cv,y_pred_cv)"
   ]
  },
  {
   "cell_type": "code",
   "execution_count": 27,
   "metadata": {},
   "outputs": [],
   "source": [
    "pickle.dump(model,open('Models/LightBGM.sav','wb'))"
   ]
  },
  {
   "cell_type": "code",
   "execution_count": 35,
   "metadata": {},
   "outputs": [],
   "source": [
    "Decision_tree = pickle.load(open('Models/DecisionTree.sav', 'rb'))\n",
    "Logistic_reg = LogisticRegression()\n",
    "XGboost = pickle.load(open('Models/XGBoost.sav','rb'))\n",
    "LightBGM = pickle.load(open('Models/LightBGM.sav','rb'))"
   ]
  },
  {
   "cell_type": "code",
   "execution_count": 41,
   "metadata": {},
   "outputs": [
    {
     "name": "stderr",
     "output_type": "stream",
     "text": [
      "C:\\Users\\Admin\\miniconda3\\envs\\tensorflow\\lib\\site-packages\\sklearn\\linear_model\\_logistic.py:764: ConvergenceWarning: lbfgs failed to converge (status=1):\n",
      "STOP: TOTAL NO. of ITERATIONS REACHED LIMIT.\n",
      "\n",
      "Increase the number of iterations (max_iter) or scale the data as shown in:\n",
      "    https://scikit-learn.org/stable/modules/preprocessing.html\n",
      "Please also refer to the documentation for alternative solver options:\n",
      "    https://scikit-learn.org/stable/modules/linear_model.html#logistic-regression\n",
      "  extra_warning_msg=_LOGISTIC_SOLVER_CONVERGENCE_MSG)\n"
     ]
    },
    {
     "data": {
      "text/plain": [
       "LogisticRegression()"
      ]
     },
     "execution_count": 41,
     "metadata": {},
     "output_type": "execute_result"
    }
   ],
   "source": [
    "Logistic_reg.fit(X_train,Y_train)"
   ]
  },
  {
   "cell_type": "code",
   "execution_count": 42,
   "metadata": {},
   "outputs": [],
   "source": [
    "sclf = StackingClassifier(classifiers=[Decision_tree,XGboost,LightBGM],\n",
    "                         meta_classifier=Logistic_reg)"
   ]
  },
  {
   "cell_type": "code",
   "execution_count": 43,
   "metadata": {},
   "outputs": [
    {
     "data": {
      "text/plain": [
       "StackingClassifier(classifiers=[DecisionTreeClassifier(max_depth=50,\n",
       "                                                       min_samples_split=500),\n",
       "                                DecisionTreeClassifier(max_depth=50,\n",
       "                                                       min_samples_split=500),\n",
       "                                LGBMClassifier()],\n",
       "                   meta_classifier=LogisticRegression())"
      ]
     },
     "execution_count": 43,
     "metadata": {},
     "output_type": "execute_result"
    }
   ],
   "source": [
    "sclf "
   ]
  },
  {
   "cell_type": "code",
   "execution_count": 44,
   "metadata": {},
   "outputs": [
    {
     "data": {
      "text/plain": [
       "StackingClassifier(classifiers=[DecisionTreeClassifier(max_depth=50,\n",
       "                                                       min_samples_split=500),\n",
       "                                DecisionTreeClassifier(max_depth=50,\n",
       "                                                       min_samples_split=500),\n",
       "                                LGBMClassifier()],\n",
       "                   meta_classifier=LogisticRegression())"
      ]
     },
     "execution_count": 44,
     "metadata": {},
     "output_type": "execute_result"
    }
   ],
   "source": [
    "sclf.fit(X_train,Y_train)"
   ]
  },
  {
   "cell_type": "code",
   "execution_count": 72,
   "metadata": {},
   "outputs": [
    {
     "name": "stdout",
     "output_type": "stream",
     "text": [
      "[[0.97960155 0.02039845]\n",
      " [0.97960155 0.02039845]\n",
      " [0.97960155 0.02039845]\n",
      " ...\n",
      " [0.55255462 0.44744538]\n",
      " [0.97960155 0.02039845]\n",
      " [0.97960155 0.02039845]]\n"
     ]
    }
   ],
   "source": [
    "y_pred_cv  = sclf.predict_proba(X_cv)\n",
    "print(y_pred_cv)"
   ]
  },
  {
   "cell_type": "code",
   "execution_count": 46,
   "metadata": {},
   "outputs": [
    {
     "data": {
      "text/plain": [
       "0.12717710687001554"
      ]
     },
     "execution_count": 46,
     "metadata": {},
     "output_type": "execute_result"
    }
   ],
   "source": [
    "log_loss(Y_cv,y_pred_cv) "
   ]
  },
  {
   "cell_type": "code",
   "execution_count": 67,
   "metadata": {},
   "outputs": [],
   "source": [
    "y_pred_test = sclf.predict_proba(test[cols])"
   ]
  },
  {
   "cell_type": "code",
   "execution_count": 71,
   "metadata": {},
   "outputs": [
    {
     "data": {
      "text/plain": [
       "array([[0.08810978, 0.91189022],\n",
       "       [0.08810978, 0.91189022],\n",
       "       [0.08810978, 0.91189022],\n",
       "       ...,\n",
       "       [0.08810978, 0.91189022],\n",
       "       [0.08810978, 0.91189022],\n",
       "       [0.08810978, 0.91189022]])"
      ]
     },
     "execution_count": 71,
     "metadata": {},
     "output_type": "execute_result"
    }
   ],
   "source": [
    "y_pred_test"
   ]
  },
  {
   "cell_type": "code",
   "execution_count": 73,
   "metadata": {},
   "outputs": [],
   "source": [
    "test['is_churn'] = y_pred_test\n",
    "test[['msno','is_churn']].to_csv('submission3.csv',index=False)"
   ]
  },
  {
   "cell_type": "code",
   "execution_count": 74,
   "metadata": {},
   "outputs": [],
   "source": [
    "a = pd.read_csv('submission3.csv')"
   ]
  },
  {
   "cell_type": "code",
   "execution_count": 75,
   "metadata": {},
   "outputs": [
    {
     "data": {
      "text/html": [
       "<div>\n",
       "<style scoped>\n",
       "    .dataframe tbody tr th:only-of-type {\n",
       "        vertical-align: middle;\n",
       "    }\n",
       "\n",
       "    .dataframe tbody tr th {\n",
       "        vertical-align: top;\n",
       "    }\n",
       "\n",
       "    .dataframe thead th {\n",
       "        text-align: right;\n",
       "    }\n",
       "</style>\n",
       "<table border=\"1\" class=\"dataframe\">\n",
       "  <thead>\n",
       "    <tr style=\"text-align: right;\">\n",
       "      <th></th>\n",
       "      <th>msno</th>\n",
       "      <th>is_churn</th>\n",
       "    </tr>\n",
       "  </thead>\n",
       "  <tbody>\n",
       "    <tr>\n",
       "      <th>0</th>\n",
       "      <td>+++hVY1rZox/33YtvDgmKA2Frg/2qhkz12B9ylCvh8o=</td>\n",
       "      <td>0.08811</td>\n",
       "    </tr>\n",
       "    <tr>\n",
       "      <th>1</th>\n",
       "      <td>+++snpr7pmobhLKUgSHTv/mpkqgBT0tQJ0zQj6qKrqc=</td>\n",
       "      <td>0.08811</td>\n",
       "    </tr>\n",
       "    <tr>\n",
       "      <th>2</th>\n",
       "      <td>++/9R3sX37CjxbY/AaGvbwr3QkwElKBCtSvVzhCBDOk=</td>\n",
       "      <td>0.08811</td>\n",
       "    </tr>\n",
       "    <tr>\n",
       "      <th>3</th>\n",
       "      <td>++0/NopttBsaAn6qHZA2AWWrDg7Me7UOMs1vsyo4tSI=</td>\n",
       "      <td>0.08811</td>\n",
       "    </tr>\n",
       "    <tr>\n",
       "      <th>4</th>\n",
       "      <td>++0BJXY8tpirgIhJR14LDM1pnaRosjD1mdO1mIKxlJA=</td>\n",
       "      <td>0.08811</td>\n",
       "    </tr>\n",
       "    <tr>\n",
       "      <th>...</th>\n",
       "      <td>...</td>\n",
       "      <td>...</td>\n",
       "    </tr>\n",
       "    <tr>\n",
       "      <th>907466</th>\n",
       "      <td>zzxZeMFx2fjfKZigMnJa2w0EmloDbm8+8nTf/o/00GY=</td>\n",
       "      <td>0.08811</td>\n",
       "    </tr>\n",
       "    <tr>\n",
       "      <th>907467</th>\n",
       "      <td>zzxi7n5xoTYo9Q3VTygLWvl/rBDcexwaeAry0yK7Q0E=</td>\n",
       "      <td>0.08811</td>\n",
       "    </tr>\n",
       "    <tr>\n",
       "      <th>907468</th>\n",
       "      <td>zzy7iqSpfcRq7R4hmKKuhI+CJRs79a6pteqEggpiNO0=</td>\n",
       "      <td>0.08811</td>\n",
       "    </tr>\n",
       "    <tr>\n",
       "      <th>907469</th>\n",
       "      <td>zzyHq6TK2+cBkeGFUHvh12Z7UxFZiSM7dOOSllSBPDw=</td>\n",
       "      <td>0.08811</td>\n",
       "    </tr>\n",
       "    <tr>\n",
       "      <th>907470</th>\n",
       "      <td>zzzF1KsGfHH3qI6qiSNSXC35UXmVKMVFdxkp7xmDMc0=</td>\n",
       "      <td>0.08811</td>\n",
       "    </tr>\n",
       "  </tbody>\n",
       "</table>\n",
       "<p>907471 rows × 2 columns</p>\n",
       "</div>"
      ],
      "text/plain": [
       "                                                msno  is_churn\n",
       "0       +++hVY1rZox/33YtvDgmKA2Frg/2qhkz12B9ylCvh8o=   0.08811\n",
       "1       +++snpr7pmobhLKUgSHTv/mpkqgBT0tQJ0zQj6qKrqc=   0.08811\n",
       "2       ++/9R3sX37CjxbY/AaGvbwr3QkwElKBCtSvVzhCBDOk=   0.08811\n",
       "3       ++0/NopttBsaAn6qHZA2AWWrDg7Me7UOMs1vsyo4tSI=   0.08811\n",
       "4       ++0BJXY8tpirgIhJR14LDM1pnaRosjD1mdO1mIKxlJA=   0.08811\n",
       "...                                              ...       ...\n",
       "907466  zzxZeMFx2fjfKZigMnJa2w0EmloDbm8+8nTf/o/00GY=   0.08811\n",
       "907467  zzxi7n5xoTYo9Q3VTygLWvl/rBDcexwaeAry0yK7Q0E=   0.08811\n",
       "907468  zzy7iqSpfcRq7R4hmKKuhI+CJRs79a6pteqEggpiNO0=   0.08811\n",
       "907469  zzyHq6TK2+cBkeGFUHvh12Z7UxFZiSM7dOOSllSBPDw=   0.08811\n",
       "907470  zzzF1KsGfHH3qI6qiSNSXC35UXmVKMVFdxkp7xmDMc0=   0.08811\n",
       "\n",
       "[907471 rows x 2 columns]"
      ]
     },
     "execution_count": 75,
     "metadata": {},
     "output_type": "execute_result"
    }
   ],
   "source": [
    "a"
   ]
  },
  {
   "cell_type": "code",
   "execution_count": null,
   "metadata": {},
   "outputs": [],
   "source": []
  },
  {
   "cell_type": "code",
   "execution_count": null,
   "metadata": {},
   "outputs": [],
   "source": []
  },
  {
   "cell_type": "code",
   "execution_count": null,
   "metadata": {},
   "outputs": [],
   "source": []
  },
  {
   "cell_type": "code",
   "execution_count": null,
   "metadata": {},
   "outputs": [],
   "source": []
  },
  {
   "cell_type": "code",
   "execution_count": null,
   "metadata": {},
   "outputs": [],
   "source": []
  }
 ],
 "metadata": {
  "kernelspec": {
   "display_name": "Python 3",
   "language": "python",
   "name": "python3"
  },
  "language_info": {
   "codemirror_mode": {
    "name": "ipython",
    "version": 3
   },
   "file_extension": ".py",
   "mimetype": "text/x-python",
   "name": "python",
   "nbconvert_exporter": "python",
   "pygments_lexer": "ipython3",
   "version": "3.7.9"
  }
 },
 "nbformat": 4,
 "nbformat_minor": 4
}
